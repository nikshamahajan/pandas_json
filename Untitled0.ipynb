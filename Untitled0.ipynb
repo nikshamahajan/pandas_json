{
  "nbformat": 4,
  "nbformat_minor": 0,
  "metadata": {
    "colab": {
      "provenance": []
    },
    "kernelspec": {
      "name": "python3",
      "display_name": "Python 3"
    },
    "language_info": {
      "name": "python"
    }
  },
  "cells": [
    {
      "cell_type": "code",
      "execution_count": null,
      "metadata": {
        "id": "DyGisvIFt0CB"
      },
      "outputs": [],
      "source": [
        "import pandas as pd"
      ]
    },
    {
      "cell_type": "code",
      "source": [
        "y=[\"Sagar\",\"Riddhi\",\"Preeti\",\"Niksha\"]\n",
        "x=pd.Series(y,index=[\"Emp_1\",\"Emp_2\",\"Emp_3\",\"Emp_4\"])\n",
        "\n"
      ],
      "metadata": {
        "id": "uL_981o4uXEe"
      },
      "execution_count": null,
      "outputs": []
    },
    {
      "cell_type": "code",
      "source": [
        "x"
      ],
      "metadata": {
        "colab": {
          "base_uri": "https://localhost:8080/"
        },
        "id": "VVMo7O9Bvcd9",
        "outputId": "e4764192-16f2-4620-98e6-5fe256beadc9"
      },
      "execution_count": null,
      "outputs": [
        {
          "output_type": "execute_result",
          "data": {
            "text/plain": [
              "Emp_1     Sagar\n",
              "Emp_2    Riddhi\n",
              "Emp_3    Preeti\n",
              "Emp_4    Niksha\n",
              "dtype: object"
            ]
          },
          "metadata": {},
          "execution_count": 3
        }
      ]
    },
    {
      "cell_type": "code",
      "source": [
        "y=[\"Sagar\",\"Riddhi\",\"Preeti\",\"Niksha\"]\n",
        "y[2]=\"sneha\"\n",
        "x=pd.Series(y,index=[\"Emp_1\",\"Emp_2\",\"Emp_3\",\"Emp_4\"])\n"
      ],
      "metadata": {
        "id": "Uc8dNyRevew8"
      },
      "execution_count": null,
      "outputs": []
    },
    {
      "cell_type": "code",
      "source": [
        "x"
      ],
      "metadata": {
        "colab": {
          "base_uri": "https://localhost:8080/"
        },
        "id": "t9c_AT_Ev6IC",
        "outputId": "d55d8899-5f06-4d9e-9f80-e806625a4e3b"
      },
      "execution_count": null,
      "outputs": [
        {
          "output_type": "execute_result",
          "data": {
            "text/plain": [
              "Emp_1     Sagar\n",
              "Emp_2    Riddhi\n",
              "Emp_3     sneha\n",
              "Emp_4    Niksha\n",
              "dtype: object"
            ]
          },
          "metadata": {},
          "execution_count": 5
        }
      ]
    },
    {
      "cell_type": "code",
      "source": [
        "y=[\"Sagar\",\"Riddhi\",\"Preeti\",\"Niksha\"]\n",
        "print(y[2])\n",
        "x=pd.Series(y,index=[\"Emp_1\",\"Emp_2\",\"Emp_3\",\"Emp_4\"])\n"
      ],
      "metadata": {
        "colab": {
          "base_uri": "https://localhost:8080/"
        },
        "id": "qwNih4rlv66-",
        "outputId": "4dae3332-c2a5-406f-bbcd-58052a11106b"
      },
      "execution_count": null,
      "outputs": [
        {
          "output_type": "stream",
          "name": "stdout",
          "text": [
            "Preeti\n"
          ]
        }
      ]
    },
    {
      "cell_type": "code",
      "source": [
        "import json"
      ],
      "metadata": {
        "id": "iMOdQpgSwG78"
      },
      "execution_count": null,
      "outputs": []
    },
    {
      "cell_type": "code",
      "source": [
        "list=[1,2,3,4,True]\n",
        "x=json.dumps(list)\n"
      ],
      "metadata": {
        "id": "znquL3NkzMWK"
      },
      "execution_count": null,
      "outputs": []
    },
    {
      "cell_type": "code",
      "source": [
        "x"
      ],
      "metadata": {
        "colab": {
          "base_uri": "https://localhost:8080/",
          "height": 35
        },
        "id": "m1VuC-BCz0e9",
        "outputId": "80c852a2-8558-4d80-c9b3-a75d590c45e6"
      },
      "execution_count": null,
      "outputs": [
        {
          "output_type": "execute_result",
          "data": {
            "text/plain": [
              "'[1, 2, 3, 4, true]'"
            ],
            "application/vnd.google.colaboratory.intrinsic+json": {
              "type": "string"
            }
          },
          "metadata": {},
          "execution_count": 10
        }
      ]
    },
    {
      "cell_type": "code",
      "source": [
        "import numpy as np\n"
      ],
      "metadata": {
        "id": "5wHVg_LLz1L7"
      },
      "execution_count": null,
      "outputs": []
    },
    {
      "cell_type": "code",
      "source": [
        "arr=np.array([1,2,3,4,5])\n",
        "print(arr[::2])"
      ],
      "metadata": {
        "colab": {
          "base_uri": "https://localhost:8080/"
        },
        "id": "GzsasbVeAYay",
        "outputId": "7fc002d9-5ad1-4c01-de98-56bf03fb48d3"
      },
      "execution_count": null,
      "outputs": [
        {
          "output_type": "stream",
          "name": "stdout",
          "text": [
            "[1 3 5]\n"
          ]
        }
      ]
    },
    {
      "cell_type": "code",
      "source": [],
      "metadata": {
        "id": "iOkcwASYBCud"
      },
      "execution_count": null,
      "outputs": []
    }
  ]
}